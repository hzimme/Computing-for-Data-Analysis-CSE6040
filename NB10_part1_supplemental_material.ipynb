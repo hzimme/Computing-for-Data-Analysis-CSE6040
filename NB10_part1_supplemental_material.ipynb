{
 "cells": [
  {
   "cell_type": "markdown",
   "metadata": {
    "deletable": false,
    "editable": false,
    "nbgrader": {
     "grade": false,
     "locked": true,
     "solution": false
    }
   },
   "source": [
    "# Part 1: Supplemental Background on Numpy\n",
    "\n",
    "This notebook is a quick overview of additional functionality in Numpy. It is intended to supplement the videos and the other parts of this assignment. It does **not** contain any exercises that you need to submit."
   ]
  },
  {
   "cell_type": "code",
   "execution_count": 1,
   "metadata": {
    "nbgrader": {
     "grade": false,
     "locked": false,
     "solution": false
    }
   },
   "outputs": [
    {
     "name": "stdout",
     "output_type": "stream",
     "text": [
      "3.8.7 (default, Jan 25 2021, 11:14:52) \n",
      "[GCC 5.5.0 20171010]\n",
      "1.22.1\n"
     ]
    }
   ],
   "source": [
    "import sys\n",
    "print(sys.version)\n",
    "\n",
    "import numpy as np\n",
    "print(np.__version__)"
   ]
  },
  {
   "cell_type": "markdown",
   "metadata": {
    "deletable": false,
    "editable": false,
    "nbgrader": {
     "grade": false,
     "locked": true,
     "solution": false
    }
   },
   "source": [
    "# Random numbers #"
   ]
  },
  {
   "cell_type": "markdown",
   "metadata": {
    "deletable": false,
    "editable": false,
    "nbgrader": {
     "grade": false,
     "locked": true,
     "solution": false
    }
   },
   "source": [
    "Numpy has a rich collection of (pseudo) random number generators. See the documentation for [numpy.random](https://numpy.org/doc/stable/reference/random/index.html) for more details."
   ]
  },
  {
   "cell_type": "code",
   "execution_count": 2,
   "metadata": {
    "nbgrader": {
     "grade": false,
     "locked": false,
     "solution": false
    }
   },
   "outputs": [
    {
     "name": "stdout",
     "output_type": "stream",
     "text": [
      "[[ -2  -9  -7]\n",
      " [ -1  -7  -2]\n",
      " [-10   2   0]\n",
      " [  8  -1   7]]\n"
     ]
    }
   ],
   "source": [
    "from numpy.random import default_rng\n",
    "rng = default_rng()\n",
    "\n",
    "A = rng.integers(-10, 10, size=(4, 3)) # return random integers from -10 (inclusive) to 10 (exclusive)\n",
    "print(A)"
   ]
  },
  {
   "cell_type": "code",
   "execution_count": 3,
   "metadata": {},
   "outputs": [
    {
     "data": {
      "text/plain": [
       "array([[ -2,  -9,  -7],\n",
       "       [ -1,  -7,  -2],\n",
       "       [-10,   2,   0],\n",
       "       [  8,  -1,   7]])"
      ]
     },
     "execution_count": 3,
     "metadata": {},
     "output_type": "execute_result"
    }
   ],
   "source": [
    "A"
   ]
  },
  {
   "cell_type": "code",
   "execution_count": 4,
   "metadata": {
    "nbgrader": {
     "grade": false,
     "locked": false,
     "solution": false
    }
   },
   "outputs": [
    {
     "data": {
      "text/plain": [
       "-1.8333333333333333"
      ]
     },
     "execution_count": 4,
     "metadata": {},
     "output_type": "execute_result"
    }
   ],
   "source": [
    "np.mean(A.T, axis=0)\n",
    "np.mean(A.T)"
   ]
  },
  {
   "cell_type": "markdown",
   "metadata": {
    "deletable": false,
    "editable": false,
    "nbgrader": {
     "grade": false,
     "locked": true,
     "solution": false
    }
   },
   "source": [
    "# Aggregations or reductions #"
   ]
  },
  {
   "cell_type": "markdown",
   "metadata": {
    "deletable": false,
    "editable": false,
    "nbgrader": {
     "grade": false,
     "locked": true,
     "solution": false
    }
   },
   "source": [
    "Suppose you want to reduce the values of a Numpy array to a smaller number of values. Numpy provides a number of such functions that _aggregate_ values. Examples of aggregations include sums, min/max calculations, and averaging, among others."
   ]
  },
  {
   "cell_type": "code",
   "execution_count": 5,
   "metadata": {},
   "outputs": [
    {
     "name": "stdout",
     "output_type": "stream",
     "text": [
      "np.max = [-2 -1  2  8] ; np.amax = 8\n",
      "np.min = -10 ; np.amin = -10\n",
      "np.sum = -22\n",
      "np.mean = -1.8333333333333333\n",
      "np.std = 5.520165053893065\n"
     ]
    }
   ],
   "source": [
    "print(\"np.max =\", np.max(A, axis=1),\"; np.amax =\", np.amax(A)) # np.max() and np.amax() are synonyms\n",
    "print(\"np.min =\",np.min(A),\"; np.amin =\", np.amin(A)) # same\n",
    "print(\"np.sum =\",np.sum(A))\n",
    "print(\"np.mean =\",np.mean(A))\n",
    "print(\"np.std =\",np.std(A))"
   ]
  },
  {
   "cell_type": "markdown",
   "metadata": {
    "deletable": false,
    "editable": false,
    "nbgrader": {
     "grade": false,
     "locked": true,
     "solution": false
    }
   },
   "source": [
    "The above examples aggregate over all values. But you can also aggregate along a dimension using the optional `axis` parameter."
   ]
  },
  {
   "cell_type": "code",
   "execution_count": 6,
   "metadata": {},
   "outputs": [
    {
     "name": "stdout",
     "output_type": "stream",
     "text": [
      "Max in each column: [8 2 7]\n",
      "Max in each row: [-2 -1  2  8]\n"
     ]
    }
   ],
   "source": [
    "print(\"Max in each column:\", np.amax(A, axis=0)) # i.e., aggregate along axis 0, the rows, producing column maxes\n",
    "print(\"Max in each row:\", np.amax(A, axis=1)) # i.e., aggregate along axis 1, the columns, producing row maxes"
   ]
  },
  {
   "cell_type": "markdown",
   "metadata": {
    "deletable": false,
    "editable": false,
    "nbgrader": {
     "grade": false,
     "locked": true,
     "solution": false
    }
   },
   "source": [
    "# Universal functions"
   ]
  },
  {
   "cell_type": "markdown",
   "metadata": {
    "deletable": false,
    "editable": false,
    "nbgrader": {
     "grade": false,
     "locked": true,
     "solution": false
    }
   },
   "source": [
    "Universal functions apply a given function _elementwise_ to one or more Numpy objects.\n",
    "\n",
    "For instance, `np.abs(A)` takes the absolute value of each element."
   ]
  },
  {
   "cell_type": "code",
   "execution_count": 7,
   "metadata": {},
   "outputs": [
    {
     "name": "stdout",
     "output_type": "stream",
     "text": [
      "[[ -2  -9  -7]\n",
      " [ -1  -7  -2]\n",
      " [-10   2   0]\n",
      " [  8  -1   7]] \n",
      "==>\n",
      " [[ 2  9  7]\n",
      " [ 1  7  2]\n",
      " [10  2  0]\n",
      " [ 8  1  7]]\n"
     ]
    }
   ],
   "source": [
    "print(A, \"\\n==>\\n\", np.abs(A))"
   ]
  },
  {
   "cell_type": "markdown",
   "metadata": {
    "deletable": false,
    "editable": false,
    "nbgrader": {
     "grade": false,
     "locked": true,
     "solution": false
    }
   },
   "source": [
    "Some universal functions accept multiple, compatible arguments. For instance, here, we compute the _elementwise maximum_ between two matrices, $A$ and $B$, producing a new matrix $C$ such that $c_{ij} = \\max(a_{ij}, b_{ij})$.\n",
    "\n",
    "> The matrices must have compatible shapes, which we will elaborate on below when we discuss Numpy's _broadcasting rule_."
   ]
  },
  {
   "cell_type": "code",
   "execution_count": 8,
   "metadata": {},
   "outputs": [
    {
     "name": "stdout",
     "output_type": "stream",
     "text": [
      "[[ -2  -9  -7]\n",
      " [ -1  -7  -2]\n",
      " [-10   2   0]\n",
      " [  8  -1   7]]\n"
     ]
    }
   ],
   "source": [
    "print(A) # recall A\n"
   ]
  },
  {
   "cell_type": "code",
   "execution_count": 9,
   "metadata": {},
   "outputs": [
    {
     "data": {
      "text/plain": [
       "(4, 3)"
      ]
     },
     "execution_count": 9,
     "metadata": {},
     "output_type": "execute_result"
    }
   ],
   "source": [
    "A.shape"
   ]
  },
  {
   "cell_type": "code",
   "execution_count": 10,
   "metadata": {},
   "outputs": [
    {
     "name": "stdout",
     "output_type": "stream",
     "text": [
      "[[-6  4 -1]\n",
      " [ 5  3  4]\n",
      " [ 0 -1  5]\n",
      " [ 8  6  7]]\n"
     ]
    }
   ],
   "source": [
    "B = rng.integers(-10, 10, size=A.shape)\n",
    "print(B)"
   ]
  },
  {
   "cell_type": "code",
   "execution_count": 11,
   "metadata": {},
   "outputs": [
    {
     "name": "stdout",
     "output_type": "stream",
     "text": [
      "[[-2  4 -1]\n",
      " [ 5  3  4]\n",
      " [ 0  2  5]\n",
      " [ 8  6  7]]\n"
     ]
    }
   ],
   "source": [
    "C = np.maximum(A, B) # elementwise comparison\n",
    "print(C)"
   ]
  },
  {
   "cell_type": "markdown",
   "metadata": {
    "deletable": false,
    "editable": false,
    "nbgrader": {
     "grade": false,
     "locked": true,
     "solution": false
    }
   },
   "source": [
    "You can also build your own universal functions! For instance, suppose we want a way to compute, elementwise, $f(x) = e^{-x^2}$ and we have a scalar function that can do so:"
   ]
  },
  {
   "cell_type": "code",
   "execution_count": 12,
   "metadata": {
    "collapsed": true
   },
   "outputs": [],
   "source": [
    "def f(x):\n",
    "    from math import exp\n",
    "    return exp(-(x**2))"
   ]
  },
  {
   "cell_type": "markdown",
   "metadata": {
    "deletable": false,
    "editable": false,
    "nbgrader": {
     "grade": false,
     "locked": true,
     "solution": false
    }
   },
   "source": [
    "This function accepts one input (`x`) and returns a single output. The following will create a new Numpy universal function `f_np`.\n",
    "See the documentation for [np.frompyfunc()](https://docs.scipy.org/doc/numpy/reference/generated/numpy.frompyfunc.html) for more details."
   ]
  },
  {
   "cell_type": "code",
   "execution_count": 13,
   "metadata": {},
   "outputs": [
    {
     "name": "stdout",
     "output_type": "stream",
     "text": [
      "[[ -2  -9  -7]\n",
      " [ -1  -7  -2]\n",
      " [-10   2   0]\n",
      " [  8  -1   7]] \n",
      "=>\n",
      " [[0.01831563888873418 6.639677199580735e-36 5.242885663363464e-22]\n",
      " [0.36787944117144233 5.242885663363464e-22 0.01831563888873418]\n",
      " [3.720075976020836e-44 0.01831563888873418 1.0]\n",
      " [1.603810890548638e-28 0.36787944117144233 5.242885663363464e-22]]\n"
     ]
    }
   ],
   "source": [
    "f_np = np.frompyfunc(f, 1, 1)  \n",
    "\n",
    "print(A, \"\\n=>\\n\", f_np(A))"
   ]
  },
  {
   "cell_type": "markdown",
   "metadata": {
    "deletable": false,
    "editable": false,
    "nbgrader": {
     "grade": false,
     "locked": true,
     "solution": false
    }
   },
   "source": [
    "# Broadcasting #"
   ]
  },
  {
   "cell_type": "markdown",
   "metadata": {
    "deletable": false,
    "editable": false,
    "nbgrader": {
     "grade": false,
     "locked": true,
     "solution": false
    }
   },
   "source": [
    "Sometimes we want to combine operations on Numpy arrays that have different shapes but are _compatible_.\n",
    "\n",
    "In the following example, we want to add 3 elementwise to every value in `A`."
   ]
  },
  {
   "cell_type": "code",
   "execution_count": 14,
   "metadata": {},
   "outputs": [
    {
     "name": "stdout",
     "output_type": "stream",
     "text": [
      "[[ -2  -9  -7]\n",
      " [ -1  -7  -2]\n",
      " [-10   2   0]\n",
      " [  8  -1   7]]\n",
      "\n",
      "[[ 1 -6 -4]\n",
      " [ 2 -4  1]\n",
      " [-7  5  3]\n",
      " [11  2 10]]\n"
     ]
    }
   ],
   "source": [
    "print(A)\n",
    "print()\n",
    "print(A + 3)"
   ]
  },
  {
   "cell_type": "markdown",
   "metadata": {
    "deletable": false,
    "editable": false,
    "nbgrader": {
     "grade": false,
     "locked": true,
     "solution": false
    }
   },
   "source": [
    "Technically, `A` and `3` have different shapes: the former is a $4 \\times 3$ matrix, while the latter is a scalar ($1 \\times 1$). However, they are compatible because Numpy knows how to _extend_---or **broadcast**---the value 3 into an equivalent matrix object of the same shape in order to combine them."
   ]
  },
  {
   "cell_type": "markdown",
   "metadata": {
    "deletable": false,
    "editable": false,
    "nbgrader": {
     "grade": false,
     "locked": true,
     "solution": false
    }
   },
   "source": [
    "To see a more sophisticated example, suppose each row `A[i, :]` are the coordinates of a data point, and we want to compute the centroid of all the data points (or center-of-mass, if we imagine each point is a unit mass). That's the same as computing the mean coordinate for each column:"
   ]
  },
  {
   "cell_type": "code",
   "execution_count": 15,
   "metadata": {},
   "outputs": [
    {
     "name": "stdout",
     "output_type": "stream",
     "text": [
      "[[ -2  -9  -7]\n",
      " [ -1  -7  -2]\n",
      " [-10   2   0]\n",
      " [  8  -1   7]] \n",
      "=>\n",
      " [-1.25 -3.75 -0.5 ]\n"
     ]
    }
   ],
   "source": [
    "A_row_means = np.mean(A, axis=0)\n",
    "\n",
    "print(A, \"\\n=>\\n\", A_row_means)"
   ]
  },
  {
   "cell_type": "markdown",
   "metadata": {
    "deletable": false,
    "editable": false,
    "nbgrader": {
     "grade": false,
     "locked": true,
     "solution": false
    }
   },
   "source": [
    "Now, suppose you want to shift the points so that their mean is zero. Even though they don't have the same shape, Numpy will interpret `A - A_row_means` as precisely this operation, effectively extending or \"replicating\" `A_row_means` into rows of a matrix of the same shape as `A`, in order to then perform elementwise subtraction."
   ]
  },
  {
   "cell_type": "code",
   "execution_count": 16,
   "metadata": {},
   "outputs": [
    {
     "data": {
      "text/plain": [
       "array([[-0.75, -5.25, -6.5 ],\n",
       "       [ 0.25, -3.25, -1.5 ],\n",
       "       [-8.75,  5.75,  0.5 ],\n",
       "       [ 9.25,  2.75,  7.5 ]])"
      ]
     },
     "execution_count": 16,
     "metadata": {},
     "output_type": "execute_result"
    }
   ],
   "source": [
    "A_row_centered = A - A_row_means\n",
    "A_row_centered"
   ]
  },
  {
   "cell_type": "markdown",
   "metadata": {
    "deletable": false,
    "editable": false,
    "nbgrader": {
     "grade": false,
     "locked": true,
     "solution": false
    }
   },
   "source": [
    "Suppose you instead want to mean-center the _columns_ instead of the rows. You could start by computing column means:"
   ]
  },
  {
   "cell_type": "code",
   "execution_count": 17,
   "metadata": {},
   "outputs": [
    {
     "name": "stdout",
     "output_type": "stream",
     "text": [
      "[[ -2  -9  -7]\n",
      " [ -1  -7  -2]\n",
      " [-10   2   0]\n",
      " [  8  -1   7]] \n",
      "=>\n",
      " [-6.         -3.33333333 -2.66666667  4.66666667]\n"
     ]
    }
   ],
   "source": [
    "A_col_means = np.mean(A, axis=1)\n",
    "\n",
    "print(A, \"\\n=>\\n\", A_col_means)"
   ]
  },
  {
   "cell_type": "markdown",
   "metadata": {
    "deletable": false,
    "editable": false,
    "nbgrader": {
     "grade": false,
     "locked": true,
     "solution": false
    }
   },
   "source": [
    "But the same operation will fail!"
   ]
  },
  {
   "cell_type": "code",
   "execution_count": 18,
   "metadata": {},
   "outputs": [
    {
     "ename": "ValueError",
     "evalue": "operands could not be broadcast together with shapes (4,3) (4,) ",
     "output_type": "error",
     "traceback": [
      "\u001b[0;31m---------------------------------------------------------------------------\u001b[0m",
      "\u001b[0;31mValueError\u001b[0m                                Traceback (most recent call last)",
      "\u001b[0;32m<ipython-input-18-d3357eda1460>\u001b[0m in \u001b[0;36m<module>\u001b[0;34m\u001b[0m\n\u001b[0;32m----> 1\u001b[0;31m \u001b[0mA\u001b[0m \u001b[0;34m-\u001b[0m \u001b[0mA_col_means\u001b[0m \u001b[0;31m# Fails!\u001b[0m\u001b[0;34m\u001b[0m\u001b[0;34m\u001b[0m\u001b[0m\n\u001b[0m",
      "\u001b[0;31mValueError\u001b[0m: operands could not be broadcast together with shapes (4,3) (4,) "
     ]
    }
   ],
   "source": [
    "A - A_col_means # Fails!"
   ]
  },
  {
   "cell_type": "markdown",
   "metadata": {
    "deletable": false,
    "editable": false,
    "nbgrader": {
     "grade": false,
     "locked": true,
     "solution": false
    }
   },
   "source": [
    "The error reports that these shapes are not compatible. So how can you fix it?\n",
    "\n",
    "**Broadcasting rule.** One way is to learn Numpy's convention for **[broadcasting](https://docs.scipy.org/doc/numpy/reference/ufuncs.html#broadcasting)**. Numpy starts by looking at the shapes of the objects:"
   ]
  },
  {
   "cell_type": "code",
   "execution_count": 19,
   "metadata": {},
   "outputs": [
    {
     "name": "stdout",
     "output_type": "stream",
     "text": [
      "(4, 3) (3,)\n"
     ]
    }
   ],
   "source": [
    "print(A.shape, A_row_means.shape)"
   ]
  },
  {
   "cell_type": "markdown",
   "metadata": {
    "deletable": false,
    "editable": false,
    "nbgrader": {
     "grade": false,
     "locked": true,
     "solution": false
    }
   },
   "source": [
    "These are compatible if, starting from _right_ to _left_, the dimensions match **or** one of the dimensions is 1. This convention of moving from right to left is referred to as matching the _trailing dimensions_. In this example, the rightmost dimensions of each object are both 3, so they match. Since `A_row_means` has no more dimensions, it can be replicated to match the remaining dimensions of `A`."
   ]
  },
  {
   "cell_type": "markdown",
   "metadata": {
    "deletable": false,
    "editable": false,
    "nbgrader": {
     "grade": false,
     "locked": true,
     "solution": false
    }
   },
   "source": [
    "By contrast, consider the shapes of `A` and `A_col_means`:"
   ]
  },
  {
   "cell_type": "code",
   "execution_count": 20,
   "metadata": {},
   "outputs": [
    {
     "name": "stdout",
     "output_type": "stream",
     "text": [
      "(4, 3) (4,)\n"
     ]
    }
   ],
   "source": [
    "print(A.shape, A_col_means.shape)"
   ]
  },
  {
   "cell_type": "markdown",
   "metadata": {
    "deletable": false,
    "editable": false,
    "nbgrader": {
     "grade": false,
     "locked": true,
     "solution": false
    }
   },
   "source": [
    "In this case, per the broadcasting rule, the trailing dimensions of 3 and 4 do not match. Therefore, the broadcast rule fails. To make it work, we need to modify `A_col_means` to have a unit trailing dimension. Use Numpy's [`reshape()`](https://docs.scipy.org/doc/numpy/reference/generated/numpy.reshape.html) to convert `A_col_means` into a shape that has an explicit trailing dimension of size 1."
   ]
  },
  {
   "cell_type": "code",
   "execution_count": 21,
   "metadata": {},
   "outputs": [
    {
     "name": "stdout",
     "output_type": "stream",
     "text": [
      "[[-6.        ]\n",
      " [-3.33333333]\n",
      " [-2.66666667]\n",
      " [ 4.66666667]] => (4, 1)\n"
     ]
    }
   ],
   "source": [
    "A_col_means2 = np.reshape(A_col_means, (len(A_col_means), 1))\n",
    "print(A_col_means2, \"=>\", A_col_means2.shape)"
   ]
  },
  {
   "cell_type": "markdown",
   "metadata": {
    "deletable": false,
    "editable": false,
    "nbgrader": {
     "grade": false,
     "locked": true,
     "solution": false
    }
   },
   "source": [
    "Now the trailing dimension equals 1, so it can be matched against the trailing dimension of `A`. The next dimension is the same between the two objects, so Numpy knows it can replicate accordingly."
   ]
  },
  {
   "cell_type": "code",
   "execution_count": 22,
   "metadata": {
    "nbgrader": {
     "grade": false,
     "locked": false,
     "solution": false
    }
   },
   "outputs": [
    {
     "name": "stdout",
     "output_type": "stream",
     "text": [
      "A - A_col_means2\n",
      "\n",
      " [[ -2  -9  -7]\n",
      " [ -1  -7  -2]\n",
      " [-10   2   0]\n",
      " [  8  -1   7]] \n",
      "- [[-6.        ]\n",
      " [-3.33333333]\n",
      " [-2.66666667]\n",
      " [ 4.66666667]]\n",
      "\n",
      "=>\n",
      " [[ 4.         -3.         -1.        ]\n",
      " [ 2.33333333 -3.66666667  1.33333333]\n",
      " [-7.33333333  4.66666667  2.66666667]\n",
      " [ 3.33333333 -5.66666667  2.33333333]]\n"
     ]
    }
   ],
   "source": [
    "print(\"A - A_col_means2\\n\\n\", A, \"\\n-\", A_col_means2) \n",
    "print(\"\\n=>\\n\", A - A_col_means2)"
   ]
  },
  {
   "cell_type": "markdown",
   "metadata": {
    "deletable": false,
    "editable": false,
    "nbgrader": {
     "grade": false,
     "locked": true,
     "solution": false
    }
   },
   "source": [
    "**Thought exercise.** As a thought exercise, you might see if you can generalize and apply the broadcasting rule to a 3-way array."
   ]
  },
  {
   "cell_type": "markdown",
   "metadata": {
    "deletable": false,
    "editable": false,
    "nbgrader": {
     "grade": false,
     "locked": true,
     "solution": false
    }
   },
   "source": [
    "# Matrix products #\n",
    "\n",
    "Given two multidimensional arrays, there are several notions of \"multiplying them\" together. The two most common are the _elementwise_ (or _Hadamard_) product and _matrix multiplication_."
   ]
  },
  {
   "cell_type": "markdown",
   "metadata": {
    "deletable": false,
    "editable": false,
    "nbgrader": {
     "grade": false,
     "locked": true,
     "solution": false
    }
   },
   "source": [
    "**Elementwise (\"Hadamard\") product.** Given two multidimensional array objects with the _same_ shape, the elementwise product is result of multiplying the corresponding elements.\n",
    "\n",
    "For instance, recall `A` from above and suppose `B` has the same shape:"
   ]
  },
  {
   "cell_type": "code",
   "execution_count": 23,
   "metadata": {},
   "outputs": [
    {
     "name": "stdout",
     "output_type": "stream",
     "text": [
      "[[ -2  -9  -7]\n",
      " [ -1  -7  -2]\n",
      " [-10   2   0]\n",
      " [  8  -1   7]]\n"
     ]
    }
   ],
   "source": [
    "print(A)"
   ]
  },
  {
   "cell_type": "code",
   "execution_count": 24,
   "metadata": {},
   "outputs": [
    {
     "name": "stdout",
     "output_type": "stream",
     "text": [
      "[[ 6  9 -3]\n",
      " [ 9 -9  2]\n",
      " [-5  7  6]\n",
      " [-9 -8 -3]]\n"
     ]
    }
   ],
   "source": [
    "B = rng.integers(-10, 10, size=A.shape)\n",
    "print(B)"
   ]
  },
  {
   "cell_type": "markdown",
   "metadata": {
    "deletable": false,
    "editable": false,
    "nbgrader": {
     "grade": false,
     "locked": true,
     "solution": false
    }
   },
   "source": [
    "The elementwise product is an array `C` such that `C[i, j] = A[i, j] * B[i, j]`, which can be invoked via the `*` operator:"
   ]
  },
  {
   "cell_type": "code",
   "execution_count": 25,
   "metadata": {},
   "outputs": [
    {
     "data": {
      "text/plain": [
       "array([[-12, -81,  21],\n",
       "       [ -9,  63,  -4],\n",
       "       [ 50,  14,   0],\n",
       "       [-72,   8, -21]])"
      ]
     },
     "execution_count": 25,
     "metadata": {},
     "output_type": "execute_result"
    }
   ],
   "source": [
    "A * B"
   ]
  },
  {
   "cell_type": "markdown",
   "metadata": {
    "deletable": false,
    "editable": false,
    "nbgrader": {
     "grade": false,
     "locked": true,
     "solution": false
    }
   },
   "source": [
    "**Matrix multiplication.** Given two matrices, say $A$ of size $m \\times k$ and $B$ of size $k \\times n$, the matrix product (or matrix multiplication) is a matrix $C$ of size $m \\times n$ such that $c_{i,j} = \\sum_{s=0}^{k-1} a_{i, s} b_{s, j}$.\n",
    "\n",
    "For example, consider:"
   ]
  },
  {
   "cell_type": "code",
   "execution_count": 26,
   "metadata": {},
   "outputs": [
    {
     "name": "stdout",
     "output_type": "stream",
     "text": [
      "A ==\n",
      "[[ -2  -9  -7]\n",
      " [ -1  -7  -2]\n",
      " [-10   2   0]\n",
      " [  8  -1   7]]\n",
      "\n",
      "B ==\n",
      "[[  0   4   9  -9   6]\n",
      " [ -1   6   6  -8   2]\n",
      " [  4   7  -4   0 -10]]\n"
     ]
    }
   ],
   "source": [
    "print(f\"A ==\\n{A}\\n\")\n",
    "B = rng.integers(-10, 10, size=(A.shape[1], 5))\n",
    "print(f\"B ==\\n{B}\")"
   ]
  },
  {
   "cell_type": "markdown",
   "metadata": {
    "deletable": false,
    "editable": false,
    "nbgrader": {
     "grade": false,
     "locked": true,
     "solution": false
    }
   },
   "source": [
    "The matrix product or matrix multiplication can be carried out using either of these two constructs:"
   ]
  },
  {
   "cell_type": "code",
   "execution_count": 27,
   "metadata": {},
   "outputs": [
    {
     "name": "stdout",
     "output_type": "stream",
     "text": [
      "[[ -19 -111  -44   90   40]\n",
      " [  -1  -60  -43   65    0]\n",
      " [  -2  -28  -78   74  -56]\n",
      " [  29   75   38  -64  -24]]\n"
     ]
    }
   ],
   "source": [
    "C = A.dot(B)\n",
    "print(C)"
   ]
  },
  {
   "cell_type": "code",
   "execution_count": 28,
   "metadata": {},
   "outputs": [
    {
     "name": "stdout",
     "output_type": "stream",
     "text": [
      "[[ -19 -111  -44   90   40]\n",
      " [  -1  -60  -43   65    0]\n",
      " [  -2  -28  -78   74  -56]\n",
      " [  29   75   38  -64  -24]]\n"
     ]
    }
   ],
   "source": [
    "C = A @ B\n",
    "print(C)"
   ]
  },
  {
   "cell_type": "markdown",
   "metadata": {
    "deletable": false,
    "editable": false,
    "nbgrader": {
     "grade": false,
     "locked": true,
     "solution": false
    }
   },
   "source": [
    "**Fin!** That marks the end of this notebook. If you want to learn more, checkout the second edition of [Python for Data Analysis](http://shop.oreilly.com/product/0636920050896.do) (released in October 2017)."
   ]
  },
  {
   "cell_type": "code",
   "execution_count": 29,
   "metadata": {
    "collapsed": true,
    "deletable": false,
    "editable": false,
    "nbgrader": {
     "grade": true,
     "grade_id": "dummy",
     "locked": true,
     "points": "0",
     "solution": false
    }
   },
   "outputs": [],
   "source": [
    "pass # Dummy cell"
   ]
  },
  {
   "cell_type": "code",
   "execution_count": null,
   "metadata": {
    "collapsed": true
   },
   "outputs": [],
   "source": []
  }
 ],
 "metadata": {
  "kernelspec": {
   "display_name": "Python 3.8",
   "language": "python",
   "name": "python38"
  },
  "language_info": {
   "codemirror_mode": {
    "name": "ipython",
    "version": 3
   },
   "file_extension": ".py",
   "mimetype": "text/x-python",
   "name": "python",
   "nbconvert_exporter": "python",
   "pygments_lexer": "ipython3",
   "version": "3.8.7"
  }
 },
 "nbformat": 4,
 "nbformat_minor": 2
}
